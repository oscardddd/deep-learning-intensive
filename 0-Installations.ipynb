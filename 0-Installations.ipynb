{
 "cells": [
  {
   "cell_type": "markdown",
   "metadata": {},
   "source": [
    "#  Installations for Artificial Intelligence (AI) Intensive\n",
    "> Mounting Google Drive or setting up a local installation"
   ]
  },
  {
   "cell_type": "markdown",
   "metadata": {},
   "source": [
    "During the workshop, we'll mostly focus on using the notebooks directly in conjunction with the Huggingface Hub. This means that we don't generally need to mount Google Drive. However, if you have data on Google Drive or want to clone the repository onto Google Drive, you'll need to mount your Drive. The instructions provided below will help you to do this."
   ]
  },
  {
   "cell_type": "markdown",
   "metadata": {},
   "source": [
    "## Mounting Google Drive to Google Colab"
   ]
  },
  {
   "cell_type": "markdown",
   "metadata": {},
   "source": [
    "We'll want to have Google Drive mounted to Colab in order to be able to access text or images in a Drive inside of Colab. To enable this, follow the intructions below.\n",
    "\n",
    "In case you run into trouble, further instructions can be found at: https://www.marktechpost.com/2019/06/07/how-to-connect-google-colab-with-google-drive/"
   ]
  },
  {
   "cell_type": "markdown",
   "metadata": {},
   "source": [
    "First, open Colab, open a notebook, and run the following codeblock:"
   ]
  },
  {
   "cell_type": "markdown",
   "metadata": {},
   "source": [
    "```from google.colab import drive\n",
    "drive.mount('/content/drive')```"
   ]
  },
  {
   "cell_type": "markdown",
   "metadata": {},
   "source": [
    "Alternatively, in the bottom left corner, you can find two small buttons. When you hover over the top button, it will tell you it is the \"command pallete\" Clicking this button and then selecting \"Mount drive\" from the menu that appears will create the code block above for you."
   ]
  },
  {
   "cell_type": "markdown",
   "metadata": {},
   "source": [
    "Next, Colab will provide you with a link and ask for an authorization code. Click the link and enter the information of the Google Drive you wish to mount, and once you have signed in it will give you the access code that will be a long string of characters. Copy and paste this into the ``` Authorization Code:``` box in Colab and it will mount your google drive.\n",
    "\n",
    "If you see the result: ```Mounted at /content/drive``` the process has been done correctly."
   ]
  },
  {
   "cell_type": "markdown",
   "metadata": {},
   "source": [
    "## Accessing Files in Drive Programmatically Through Colab"
   ]
  },
  {
   "cell_type": "markdown",
   "metadata": {},
   "source": [
    "The next thing we want to be able to do is access the files we have now mounted to Colab. To do this, follow the steps below.\n",
    "\n",
    "Much more detailed information on accessing files in Colab can be found at: https://colab.research.google.com/notebooks/io.ipynb\n",
    "\n",
    "The following code will allow you to write to a new file in your Drive once it is mounted:"
   ]
  },
  {
   "cell_type": "markdown",
   "metadata": {},
   "source": [
    "```with open('/content/drive/My Drive/foo.txt', 'w') as f:\n",
    "  f.write('Hello Google Drive!')\n",
    "!cat /content/drive/My\\ Drive/foo.txt ```"
   ]
  },
  {
   "cell_type": "markdown",
   "metadata": {},
   "source": [
    "This will create a new file called foo.txt in your Google Drive with the words 'Hello Google Drive!'. To check that it has worked, next run the code below, and if you see the file ```foo.txt``` at the top of your Drive then it has worked!"
   ]
  },
  {
   "cell_type": "markdown",
   "metadata": {},
   "source": [
    "```drive.flush_and_unmount()```"
   ]
  },
  {
   "cell_type": "markdown",
   "metadata": {},
   "source": [
    "Now, you can run:\n",
    "\n",
    "```with open('/content/drive/My Drive/foo.txt', 'r') as f:\n",
    "  print(f.read())```"
   ]
  },
  {
   "cell_type": "markdown",
   "metadata": {},
   "source": [
    "And see that the contents of the file are returned. This process can be used to read any files from you Google Drive. For any file you might want, the code might look something like this:"
   ]
  },
  {
   "cell_type": "markdown",
   "metadata": {},
   "source": [
    "```with open('/content/drive/My Drive/FILE_NAME', 'r') as f:\n",
    "  print(f.read())```\n",
    "  \n",
    "Or, for reading csv data into pandas dataframes:\n",
    "\n",
    "```data = pandas.read_csv(/content/drive/My Drive/FILE_NAME ```"
   ]
  },
  {
   "cell_type": "markdown",
   "metadata": {},
   "source": [
    "## Installing Anaconda"
   ]
  },
  {
   "cell_type": "markdown",
   "metadata": {},
   "source": [
    "If working with files locally, youll likely need to install Anaconda. This helps to streamline installation of many of the Python and non-Python packages we'll use to support the code. If you plan to work with your files locally instead of through Drive and Colab, follow the instructions at the link below to download Anaconda for your specific operating system:\n",
    "\n",
    "https://docs.anaconda.com/anaconda/install/"
   ]
  },
  {
   "cell_type": "markdown",
   "metadata": {},
   "source": [
    "## Installing Huggingface Transformers"
   ]
  },
  {
   "cell_type": "markdown",
   "metadata": {},
   "source": [
    "Next, we'll need Huggingface transformers and either one or both of PyTorch an TensorFlow. The website of Huggingface provides a great walkthrough for this installation process which can be found here:\n",
    "\n",
    "https://huggingface.co/transformers/installation.html\n",
    "\n",
    "Please follow the instructions in the \"Installation\" section. Follow the instructions for `conda` (further down the page) or `pip` as you prefer. For either installation method, we recommend that you create a virtual environment first for partitioned installation of new packages or different package versions so as not to interfere with other Python projects that you have."
   ]
  }
 ],
 "metadata": {
  "kernelspec": {
   "display_name": "Python 3 (ipykernel)",
   "language": "python",
   "name": "python3"
  }
 },
 "nbformat": 4,
 "nbformat_minor": 4
}
