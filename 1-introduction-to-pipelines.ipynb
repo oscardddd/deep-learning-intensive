{
 "cells": [
  {
   "cell_type": "markdown",
   "id": "fdc8643f-0f61-4f5e-b6b1-d4bb52ad6523",
   "metadata": {},
   "source": [
    "# Introduction to Pipelines\n",
    "> Coding using HuggingFace pipelines\n",
    "\n",
    "In this notebook, we try out HuggingFace pipelines!  If you're doing this locally, you'll probably need the imports below.  Otherwise, use the link provided to access the tutorial from HuggingFace via Google Colab!"
   ]
  },
  {
   "cell_type": "markdown",
   "id": "c180c6f1-4f1a-4131-a202-a3bf09fd193e",
   "metadata": {},
   "source": [
    "### Imports\n",
    "We'll start by importing `pipeline` here for a simple task.  Note that if you're on Google Colab, make sure to execute the `!pip install transformers` line to install transformers.  If you're locally using transformers, make sure your virtual environment has `transformers` _successfully_ installed."
   ]
  },
  {
   "cell_type": "code",
   "execution_count": null,
   "id": "f4fc4e72-f942-4fd3-bf7b-be4460709dfa",
   "metadata": {},
   "outputs": [],
   "source": [
    "#regular Python packages\n",
    "import glob\n",
    "import pandas as pd\n",
    "import numpy as np\n",
    "import seaborn as sns\n",
    "\n",
    "#dl imports\n",
    "from transformers import pipeline"
   ]
  },
  {
   "cell_type": "markdown",
   "id": "604c3a92-3070-4131-afbe-f280ba1c5431",
   "metadata": {},
   "source": [
    "# HuggingFace pipeline examples\n",
    "See [HuggingFace demo notebooks.](https://huggingface.co/transformers/notebooks.html)  You should peruse them at your leisure; they're quite helpful. During this session, we'll focus on [How to Use Pipelines](https://colab.research.google.com/github/huggingface/transformers/blob/master/notebooks/03-pipelines.ipynb)."
   ]
  }
 ],
 "metadata": {
  "kernelspec": {
   "display_name": "Python 3",
   "language": "python",
   "name": "python3"
  }
 },
 "nbformat": 4,
 "nbformat_minor": 5
}
