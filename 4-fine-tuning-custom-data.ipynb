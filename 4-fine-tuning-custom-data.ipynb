{
 "cells": [
  {
   "cell_type": "markdown",
   "id": "8d4849f3-51e1-4299-9f55-9c70c1f1c431",
   "metadata": {},
   "source": [
    "# Fine Tuning Models - Using Custom Data\n",
    "> Fine-tuning using custom data\n",
    "\n",
    "In this notebook, we'll use:https://huggingface.co/transformers/custom_datasets.html as a guide for our work.  You can directly open the colab notebook here: https://colab.research.google.com/github/huggingface/notebooks/blob/master/transformers_doc/custom_datasets.ipynb"
   ]
  }
 ],
 "metadata": {
  "kernelspec": {
   "display_name": "Python 3",
   "language": "python",
   "name": "python3"
  }
 },
 "nbformat": 4,
 "nbformat_minor": 5
}
