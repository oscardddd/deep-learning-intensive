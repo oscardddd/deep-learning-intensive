{
 "cells": [
  {
   "cell_type": "markdown",
   "metadata": {},
   "source": [
    "# Python and pandas for deep learning\n",
    "> Using Python and pandas for working with your files"
   ]
  },
  {
   "cell_type": "markdown",
   "metadata": {},
   "source": [
    "In this notebook, we examine how one can work with files, particularly with pandas to get the data in a desired format for usage with deep learning packages.  Here, we'll examine how to use Google Colab with Google Drive mounted so that you'll be able to access your data files.  Note that there are many ways to achieve this; one method is described below!"
   ]
  },
  {
   "cell_type": "markdown",
   "metadata": {},
   "source": [
    "# Mounting with Google Colab"
   ]
  },
  {
   "cell_type": "markdown",
   "metadata": {},
   "source": [
    "The instructions for mounting Google Drive are concisely described in the 0 notebook.  For more options about uploading and interacting with Google Colab, see their IO notebook here: https://colab.research.google.com/notebooks/io.ipynb .\n",
    "\n",
    "Here, the approach we will take is as follows.  First, we'll mount Google Drive via https://colab.research.google.com .  So we'll all have access to the same files, we'll go ahead and clone this repository in Google Drive.  This will give us access to the repository and file contents programmatically.  Note that when you first mount, you may have to enter some credentials and provide some approvals.  The steps are outlined here.\n",
    "\n",
    "## 1.  Mount Google Drive\n",
    "Note that you can also use the mount button in the sidebar.  Follow all steps to provide approval and access."
   ]
  },
  {
   "cell_type": "code",
   "execution_count": null,
   "metadata": {},
   "outputs": [],
   "source": [
    "from google.colab import drive\n",
    "drive.mount('/content/drive')"
   ]
  },
  {
   "cell_type": "markdown",
   "metadata": {},
   "source": [
    "## 2.  Clone the repo\n",
    "Again, we're cloning the repo mostly just so we'll have the desired files that we want and you can see how to do it using Google Drive.  Here, we'll simulate this by cloning within your Google Drive.  You can see this with the `cd` (Change Directory) command below.\n",
    "\n",
    "Again, keep in mind that if your data already exists somewhere on your drive, you wouldn't necessarily have to do this unless you wanted to access the repo on your drive.  You would use the filepaths directly as shown in a following step."
   ]
  },
  {
   "cell_type": "code",
   "execution_count": null,
   "metadata": {},
   "outputs": [],
   "source": [
    "%cd drive/MyDrive\n",
    "!git clone https://github.com/vanderbilt-data-science/deep-learning-intensive.git\n",
    "%cd deep-learning-intensive"
   ]
  },
  {
   "cell_type": "markdown",
   "metadata": {},
   "source": [
    "## 3. Install and load the required modules\n",
    "We need to pip install transformers.  We'll do this below.  The rest are already available through Google Colab."
   ]
  },
  {
   "cell_type": "code",
   "execution_count": null,
   "metadata": {},
   "outputs": [],
   "source": [
    "!pip install transformers"
   ]
  },
  {
   "cell_type": "code",
   "execution_count": null,
   "metadata": {},
   "outputs": [],
   "source": [
    "#import data science packages\n",
    "import pandas as pd\n",
    "import numpy as np\n",
    "import seaborn as sns\n",
    "\n",
    "#import file helper packages\n",
    "import glob\n",
    "\n",
    "#dl imports\n",
    "from transformers import pipeline"
   ]
  },
  {
   "cell_type": "markdown",
   "metadata": {},
   "source": [
    "# Example scenario\n",
    "You're working with the text of number of magazine articles, written by a number of authors, whose names are not included in the text.  The magazine articles have unique IDs, which are given by their filenames.  \n",
    "\n",
    "You also have an accompanying CSV file with details about all of the authors, including their name, age, years of employment as a journalist, college major, and IDs corresponding to the articles that they've written.  \n",
    "\n",
    "You're interested in learning whether their college major affects the sentiments of their articles.  The only data that you have access to is gathered on a particular day over a set of journalists and articles.  You've decided that the first crack you'll take about understanding this relationship is to separate the journalists (or articles) into groups according to their college major, and count the sentiments for all the corresponding articles for each group."
   ]
  },
  {
   "cell_type": "markdown",
   "metadata": {},
   "source": [
    "## Access data\n",
    "The first thing you'll need to do is access your data and be able to load it for processing with Python.  We'll use `glob` for this.  Note that we've changed into the repo directory, meaning that the filepath to `workshop-files` is `workshop-files` with no other additional paths necessary."
   ]
  },
  {
   "cell_type": "code",
   "execution_count": null,
   "metadata": {},
   "outputs": [
    {
     "data": {
      "text/plain": [
       "['workshop-files\\\\209035.txt',\n",
       " 'workshop-files\\\\2341231.txt',\n",
       " 'workshop-files\\\\244666.txt',\n",
       " 'workshop-files\\\\272307.txt',\n",
       " 'workshop-files\\\\297116.txt',\n",
       " 'workshop-files\\\\332305.txt',\n",
       " 'workshop-files\\\\343212.txt',\n",
       " 'workshop-files\\\\373587.txt',\n",
       " 'workshop-files\\\\434648.txt',\n",
       " 'workshop-files\\\\454321.txt',\n",
       " 'workshop-files\\\\479957.txt',\n",
       " 'workshop-files\\\\520668.txt',\n",
       " 'workshop-files\\\\532970.txt',\n",
       " 'workshop-files\\\\541893.txt',\n",
       " 'workshop-files\\\\542169.txt',\n",
       " 'workshop-files\\\\551293.txt',\n",
       " 'workshop-files\\\\597061.txt',\n",
       " 'workshop-files\\\\671125.txt',\n",
       " 'workshop-files\\\\696866.txt',\n",
       " 'workshop-files\\\\830014.txt',\n",
       " 'workshop-files\\\\836261.txt',\n",
       " 'workshop-files\\\\893941.txt',\n",
       " 'workshop-files\\\\930880.txt']"
      ]
     },
     "execution_count": null,
     "metadata": {},
     "output_type": "execute_result"
    }
   ],
   "source": [
    "filenames = glob.glob('workshop-files/*.txt')\n",
    "filenames"
   ]
  },
  {
   "cell_type": "markdown",
   "metadata": {},
   "source": [
    "### Get file contents\n",
    "We're going to be using the requests package to read from a remote file (the repo on GitHub).  You can use the `requests.get(insert-url-path-here.txt)` function to get the contents of a remote url.  Let's use a list comprehension to implement this functionality.  We'll do this together!"
   ]
  },
  {
   "cell_type": "code",
   "execution_count": null,
   "metadata": {},
   "outputs": [],
   "source": [
    "#read file contents\n",
    "file_contents = []\n",
    "for file in filenames:\n",
    "    with open(file, 'r') as f:\n",
    "        file_contents.append(f.read())"
   ]
  },
  {
   "cell_type": "code",
   "execution_count": null,
   "metadata": {},
   "outputs": [
    {
     "name": "stdout",
     "output_type": "stream",
     "text": [
      "Length of file contents list: 23\n"
     ]
    },
    {
     "data": {
      "text/plain": [
       "\"It was a concerning development that he couldn't get out of his mind. He'd had many friends througho\""
      ]
     },
     "execution_count": null,
     "metadata": {},
     "output_type": "execute_result"
    }
   ],
   "source": [
    "print('Length of file contents list:', len(file_contents))\n",
    "file_contents[0][:100]"
   ]
  },
  {
   "cell_type": "markdown",
   "metadata": {},
   "source": [
    "### Read tabular data\n",
    "Here, we'll read the tabular data stored in the csv about the authors."
   ]
  },
  {
   "cell_type": "code",
   "execution_count": null,
   "metadata": {},
   "outputs": [
    {
     "data": {
      "text/html": [
       "<div>\n",
       "<style scoped>\n",
       "    .dataframe tbody tr th:only-of-type {\n",
       "        vertical-align: middle;\n",
       "    }\n",
       "\n",
       "    .dataframe tbody tr th {\n",
       "        vertical-align: top;\n",
       "    }\n",
       "\n",
       "    .dataframe thead th {\n",
       "        text-align: right;\n",
       "    }\n",
       "</style>\n",
       "<table border=\"1\" class=\"dataframe\">\n",
       "  <thead>\n",
       "    <tr style=\"text-align: right;\">\n",
       "      <th></th>\n",
       "      <th>last_name</th>\n",
       "      <th>first_name</th>\n",
       "      <th>age</th>\n",
       "      <th>years_of_journalism</th>\n",
       "      <th>college major</th>\n",
       "      <th>article_id</th>\n",
       "    </tr>\n",
       "  </thead>\n",
       "  <tbody>\n",
       "    <tr>\n",
       "      <th>0</th>\n",
       "      <td>west</td>\n",
       "      <td>enrique</td>\n",
       "      <td>56</td>\n",
       "      <td>12</td>\n",
       "      <td>humanities</td>\n",
       "      <td>551293</td>\n",
       "    </tr>\n",
       "    <tr>\n",
       "      <th>1</th>\n",
       "      <td>braun</td>\n",
       "      <td>damien</td>\n",
       "      <td>43</td>\n",
       "      <td>13</td>\n",
       "      <td>humanities</td>\n",
       "      <td>373587</td>\n",
       "    </tr>\n",
       "    <tr>\n",
       "      <th>2</th>\n",
       "      <td>osborn</td>\n",
       "      <td>ellie</td>\n",
       "      <td>22</td>\n",
       "      <td>2</td>\n",
       "      <td>engineering</td>\n",
       "      <td>597061</td>\n",
       "    </tr>\n",
       "    <tr>\n",
       "      <th>3</th>\n",
       "      <td>vega</td>\n",
       "      <td>cierra</td>\n",
       "      <td>67</td>\n",
       "      <td>34</td>\n",
       "      <td>science</td>\n",
       "      <td>434648</td>\n",
       "    </tr>\n",
       "    <tr>\n",
       "      <th>4</th>\n",
       "      <td>cantrell</td>\n",
       "      <td>alden</td>\n",
       "      <td>53</td>\n",
       "      <td>23</td>\n",
       "      <td>science</td>\n",
       "      <td>532970</td>\n",
       "    </tr>\n",
       "  </tbody>\n",
       "</table>\n",
       "</div>"
      ],
      "text/plain": [
       "  last_name first_name  age  years_of_journalism college major  article_id\n",
       "0      west    enrique   56                   12    humanities      551293\n",
       "1     braun     damien   43                   13    humanities      373587\n",
       "2    osborn      ellie   22                    2   engineering      597061\n",
       "3      vega     cierra   67                   34       science      434648\n",
       "4  cantrell      alden   53                   23       science      532970"
      ]
     },
     "execution_count": null,
     "metadata": {},
     "output_type": "execute_result"
    }
   ],
   "source": [
    "#concatenate file path\n",
    "author_df = pd.read_csv('workshop-files/author_data.csv')\n",
    "author_df.head()"
   ]
  },
  {
   "cell_type": "markdown",
   "metadata": {},
   "source": [
    "### Creating dataframes from lists/dictionaries\n",
    "Now, we'll make a dataframe of the files and concatenate them to the df_list."
   ]
  },
  {
   "cell_type": "code",
   "execution_count": null,
   "metadata": {},
   "outputs": [
    {
     "data": {
      "text/html": [
       "<div>\n",
       "<style scoped>\n",
       "    .dataframe tbody tr th:only-of-type {\n",
       "        vertical-align: middle;\n",
       "    }\n",
       "\n",
       "    .dataframe tbody tr th {\n",
       "        vertical-align: top;\n",
       "    }\n",
       "\n",
       "    .dataframe thead th {\n",
       "        text-align: right;\n",
       "    }\n",
       "</style>\n",
       "<table border=\"1\" class=\"dataframe\">\n",
       "  <thead>\n",
       "    <tr style=\"text-align: right;\">\n",
       "      <th></th>\n",
       "      <th>filename</th>\n",
       "      <th>text</th>\n",
       "      <th>article_id</th>\n",
       "    </tr>\n",
       "  </thead>\n",
       "  <tbody>\n",
       "    <tr>\n",
       "      <th>0</th>\n",
       "      <td>209035.txt</td>\n",
       "      <td>It was a concerning development that he couldn...</td>\n",
       "      <td>209035</td>\n",
       "    </tr>\n",
       "    <tr>\n",
       "      <th>1</th>\n",
       "      <td>2341231.txt</td>\n",
       "      <td>Bread is one of the oldest prepared foods. Evi...</td>\n",
       "      <td>2341231</td>\n",
       "    </tr>\n",
       "    <tr>\n",
       "      <th>2</th>\n",
       "      <td>244666.txt</td>\n",
       "      <td>\"Explain to me again why I shouldnt cheat?\" he...</td>\n",
       "      <td>244666</td>\n",
       "    </tr>\n",
       "    <tr>\n",
       "      <th>3</th>\n",
       "      <td>272307.txt</td>\n",
       "      <td>Do you think you're living an ordinary life? Y...</td>\n",
       "      <td>272307</td>\n",
       "    </tr>\n",
       "    <tr>\n",
       "      <th>4</th>\n",
       "      <td>297116.txt</td>\n",
       "      <td>What have you noticed today? I noticed that if...</td>\n",
       "      <td>297116</td>\n",
       "    </tr>\n",
       "  </tbody>\n",
       "</table>\n",
       "</div>"
      ],
      "text/plain": [
       "      filename                                               text  article_id\n",
       "0   209035.txt  It was a concerning development that he couldn...      209035\n",
       "1  2341231.txt  Bread is one of the oldest prepared foods. Evi...     2341231\n",
       "2   244666.txt  \"Explain to me again why I shouldnt cheat?\" he...      244666\n",
       "3   272307.txt  Do you think you're living an ordinary life? Y...      272307\n",
       "4   297116.txt  What have you noticed today? I noticed that if...      297116"
      ]
     },
     "execution_count": null,
     "metadata": {},
     "output_type": "execute_result"
    }
   ],
   "source": [
    "#first, create a dataframe from your filename list and your text\n",
    "tinfo_df = pd.DataFrame({'filename':[fname.split('\\\\')[-1] for fname in filenames], 'text':file_contents})\n",
    "tinfo_df['article_id'] = tinfo_df['filename'].apply(lambda x: int(x.split('.')[0]))\n",
    "tinfo_df.head()"
   ]
  },
  {
   "cell_type": "markdown",
   "metadata": {},
   "source": [
    "### Putting data together: joining data\n",
    "Now, we can join the data together.  There are many different types of joins, but essentially a join will look for one or more key, match the key, and then bind the columns of both dataframes together where the key matches.  We'll do a simple inner join here."
   ]
  },
  {
   "cell_type": "code",
   "execution_count": null,
   "metadata": {},
   "outputs": [
    {
     "name": "stdout",
     "output_type": "stream",
     "text": [
      "Text info columns: ['filename', 'text', 'article_id']\n",
      "Author columns: ['last_name', 'first_name', 'age', 'years_of_journalism', 'college major', 'article_id']\n"
     ]
    }
   ],
   "source": [
    "print(\"Text info columns:\", tinfo_df.columns.tolist())\n",
    "print(\"Author columns:\", author_df.columns.tolist())"
   ]
  },
  {
   "cell_type": "code",
   "execution_count": null,
   "metadata": {},
   "outputs": [
    {
     "data": {
      "text/html": [
       "<div>\n",
       "<style scoped>\n",
       "    .dataframe tbody tr th:only-of-type {\n",
       "        vertical-align: middle;\n",
       "    }\n",
       "\n",
       "    .dataframe tbody tr th {\n",
       "        vertical-align: top;\n",
       "    }\n",
       "\n",
       "    .dataframe thead th {\n",
       "        text-align: right;\n",
       "    }\n",
       "</style>\n",
       "<table border=\"1\" class=\"dataframe\">\n",
       "  <thead>\n",
       "    <tr style=\"text-align: right;\">\n",
       "      <th></th>\n",
       "      <th>last_name</th>\n",
       "      <th>first_name</th>\n",
       "      <th>age</th>\n",
       "      <th>years_of_journalism</th>\n",
       "      <th>college major</th>\n",
       "      <th>article_id</th>\n",
       "      <th>filename</th>\n",
       "      <th>text</th>\n",
       "    </tr>\n",
       "  </thead>\n",
       "  <tbody>\n",
       "    <tr>\n",
       "      <th>0</th>\n",
       "      <td>west</td>\n",
       "      <td>enrique</td>\n",
       "      <td>56</td>\n",
       "      <td>12</td>\n",
       "      <td>humanities</td>\n",
       "      <td>551293</td>\n",
       "      <td>551293.txt</td>\n",
       "      <td>The rain and wind abruptly stopped, but the sk...</td>\n",
       "    </tr>\n",
       "    <tr>\n",
       "      <th>1</th>\n",
       "      <td>braun</td>\n",
       "      <td>damien</td>\n",
       "      <td>43</td>\n",
       "      <td>13</td>\n",
       "      <td>humanities</td>\n",
       "      <td>373587</td>\n",
       "      <td>373587.txt</td>\n",
       "      <td>She patiently waited for his number to be call...</td>\n",
       "    </tr>\n",
       "    <tr>\n",
       "      <th>2</th>\n",
       "      <td>osborn</td>\n",
       "      <td>ellie</td>\n",
       "      <td>22</td>\n",
       "      <td>2</td>\n",
       "      <td>engineering</td>\n",
       "      <td>597061</td>\n",
       "      <td>597061.txt</td>\n",
       "      <td>The chair sat in the corner where it had been ...</td>\n",
       "    </tr>\n",
       "    <tr>\n",
       "      <th>3</th>\n",
       "      <td>vega</td>\n",
       "      <td>cierra</td>\n",
       "      <td>67</td>\n",
       "      <td>34</td>\n",
       "      <td>science</td>\n",
       "      <td>434648</td>\n",
       "      <td>434648.txt</td>\n",
       "      <td>The computer wouldn't start. She banged on the...</td>\n",
       "    </tr>\n",
       "    <tr>\n",
       "      <th>4</th>\n",
       "      <td>cantrell</td>\n",
       "      <td>alden</td>\n",
       "      <td>53</td>\n",
       "      <td>23</td>\n",
       "      <td>science</td>\n",
       "      <td>532970</td>\n",
       "      <td>532970.txt</td>\n",
       "      <td>Do you really listen when you are talking with...</td>\n",
       "    </tr>\n",
       "  </tbody>\n",
       "</table>\n",
       "</div>"
      ],
      "text/plain": [
       "  last_name first_name  age  years_of_journalism college major  article_id  \\\n",
       "0      west    enrique   56                   12    humanities      551293   \n",
       "1     braun     damien   43                   13    humanities      373587   \n",
       "2    osborn      ellie   22                    2   engineering      597061   \n",
       "3      vega     cierra   67                   34       science      434648   \n",
       "4  cantrell      alden   53                   23       science      532970   \n",
       "\n",
       "     filename                                               text  \n",
       "0  551293.txt  The rain and wind abruptly stopped, but the sk...  \n",
       "1  373587.txt  She patiently waited for his number to be call...  \n",
       "2  597061.txt  The chair sat in the corner where it had been ...  \n",
       "3  434648.txt  The computer wouldn't start. She banged on the...  \n",
       "4  532970.txt  Do you really listen when you are talking with...  "
      ]
     },
     "metadata": {},
     "output_type": "display_data"
    },
    {
     "name": "stdout",
     "output_type": "stream",
     "text": [
      "(20, 8)\n"
     ]
    }
   ],
   "source": [
    "#join tables\n",
    "full_df = pd.merge(author_df, tinfo_df, on='article_id')\n",
    "\n",
    "#print some info\n",
    "display(full_df.head())\n",
    "print(full_df.shape)"
   ]
  },
  {
   "cell_type": "markdown",
   "metadata": {},
   "source": [
    "## Modeling Results\n",
    "Now that we have all of our data together and are able to extract the text of any desired subset, let's do some modeling!  Let's use a sentiment analysis pipeline to get the results.\n",
    "### In-class exercise\n",
    "Using the text classification pipeline, pass in either the list of texts or iterate through the texts to get infererences on each of the article texts.  Fill in the cell below with the required code."
   ]
  },
  {
   "cell_type": "code",
   "execution_count": null,
   "metadata": {},
   "outputs": [
    {
     "data": {
      "application/vnd.jupyter.widget-view+json": {
       "model_id": "1ae1002b4d064962b98ddf5873521d5c",
       "version_major": 2,
       "version_minor": 0
      },
      "text/plain": [
       "Downloading:   0%|          | 0.00/629 [00:00<?, ?B/s]"
      ]
     },
     "metadata": {},
     "output_type": "display_data"
    },
    {
     "data": {
      "application/vnd.jupyter.widget-view+json": {
       "model_id": "4daef986285442088a120899898b4a96",
       "version_major": 2,
       "version_minor": 0
      },
      "text/plain": [
       "Downloading:   0%|          | 0.00/268M [00:00<?, ?B/s]"
      ]
     },
     "metadata": {},
     "output_type": "display_data"
    },
    {
     "data": {
      "application/vnd.jupyter.widget-view+json": {
       "model_id": "11722ec78a5845e39a40da312cba39bd",
       "version_major": 2,
       "version_minor": 0
      },
      "text/plain": [
       "Downloading:   0%|          | 0.00/232k [00:00<?, ?B/s]"
      ]
     },
     "metadata": {},
     "output_type": "display_data"
    },
    {
     "data": {
      "application/vnd.jupyter.widget-view+json": {
       "model_id": "1a7f2d516d7c4c83be6fa6540a5aa6c1",
       "version_major": 2,
       "version_minor": 0
      },
      "text/plain": [
       "Downloading:   0%|          | 0.00/48.0 [00:00<?, ?B/s]"
      ]
     },
     "metadata": {},
     "output_type": "display_data"
    }
   ],
   "source": [
    "#get modeling results\n",
    "sentiment_classifier = pipeline('sentiment-analysis')\n",
    "sent_results = sentiment_classifier(full_df['text'].tolist())"
   ]
  },
  {
   "cell_type": "code",
   "execution_count": null,
   "metadata": {},
   "outputs": [
    {
     "data": {
      "text/html": [
       "<div>\n",
       "<style scoped>\n",
       "    .dataframe tbody tr th:only-of-type {\n",
       "        vertical-align: middle;\n",
       "    }\n",
       "\n",
       "    .dataframe tbody tr th {\n",
       "        vertical-align: top;\n",
       "    }\n",
       "\n",
       "    .dataframe thead th {\n",
       "        text-align: right;\n",
       "    }\n",
       "</style>\n",
       "<table border=\"1\" class=\"dataframe\">\n",
       "  <thead>\n",
       "    <tr style=\"text-align: right;\">\n",
       "      <th></th>\n",
       "      <th>label</th>\n",
       "      <th>score</th>\n",
       "    </tr>\n",
       "  </thead>\n",
       "  <tbody>\n",
       "    <tr>\n",
       "      <th>0</th>\n",
       "      <td>POSITIVE</td>\n",
       "      <td>0.982362</td>\n",
       "    </tr>\n",
       "    <tr>\n",
       "      <th>1</th>\n",
       "      <td>NEGATIVE</td>\n",
       "      <td>0.990874</td>\n",
       "    </tr>\n",
       "    <tr>\n",
       "      <th>2</th>\n",
       "      <td>NEGATIVE</td>\n",
       "      <td>0.992019</td>\n",
       "    </tr>\n",
       "    <tr>\n",
       "      <th>3</th>\n",
       "      <td>NEGATIVE</td>\n",
       "      <td>0.996005</td>\n",
       "    </tr>\n",
       "    <tr>\n",
       "      <th>4</th>\n",
       "      <td>POSITIVE</td>\n",
       "      <td>0.996070</td>\n",
       "    </tr>\n",
       "    <tr>\n",
       "      <th>5</th>\n",
       "      <td>NEGATIVE</td>\n",
       "      <td>0.983410</td>\n",
       "    </tr>\n",
       "    <tr>\n",
       "      <th>6</th>\n",
       "      <td>NEGATIVE</td>\n",
       "      <td>0.567702</td>\n",
       "    </tr>\n",
       "    <tr>\n",
       "      <th>7</th>\n",
       "      <td>NEGATIVE</td>\n",
       "      <td>0.995476</td>\n",
       "    </tr>\n",
       "    <tr>\n",
       "      <th>8</th>\n",
       "      <td>NEGATIVE</td>\n",
       "      <td>0.999264</td>\n",
       "    </tr>\n",
       "    <tr>\n",
       "      <th>9</th>\n",
       "      <td>POSITIVE</td>\n",
       "      <td>0.991983</td>\n",
       "    </tr>\n",
       "    <tr>\n",
       "      <th>10</th>\n",
       "      <td>POSITIVE</td>\n",
       "      <td>0.797509</td>\n",
       "    </tr>\n",
       "    <tr>\n",
       "      <th>11</th>\n",
       "      <td>NEGATIVE</td>\n",
       "      <td>0.998717</td>\n",
       "    </tr>\n",
       "    <tr>\n",
       "      <th>12</th>\n",
       "      <td>NEGATIVE</td>\n",
       "      <td>0.507139</td>\n",
       "    </tr>\n",
       "    <tr>\n",
       "      <th>13</th>\n",
       "      <td>NEGATIVE</td>\n",
       "      <td>0.945527</td>\n",
       "    </tr>\n",
       "    <tr>\n",
       "      <th>14</th>\n",
       "      <td>NEGATIVE</td>\n",
       "      <td>0.934002</td>\n",
       "    </tr>\n",
       "    <tr>\n",
       "      <th>15</th>\n",
       "      <td>POSITIVE</td>\n",
       "      <td>0.923191</td>\n",
       "    </tr>\n",
       "    <tr>\n",
       "      <th>16</th>\n",
       "      <td>NEGATIVE</td>\n",
       "      <td>0.998715</td>\n",
       "    </tr>\n",
       "    <tr>\n",
       "      <th>17</th>\n",
       "      <td>POSITIVE</td>\n",
       "      <td>0.998268</td>\n",
       "    </tr>\n",
       "    <tr>\n",
       "      <th>18</th>\n",
       "      <td>NEGATIVE</td>\n",
       "      <td>0.997587</td>\n",
       "    </tr>\n",
       "    <tr>\n",
       "      <th>19</th>\n",
       "      <td>POSITIVE</td>\n",
       "      <td>0.967129</td>\n",
       "    </tr>\n",
       "  </tbody>\n",
       "</table>\n",
       "</div>"
      ],
      "text/plain": [
       "       label     score\n",
       "0   POSITIVE  0.982362\n",
       "1   NEGATIVE  0.990874\n",
       "2   NEGATIVE  0.992019\n",
       "3   NEGATIVE  0.996005\n",
       "4   POSITIVE  0.996070\n",
       "5   NEGATIVE  0.983410\n",
       "6   NEGATIVE  0.567702\n",
       "7   NEGATIVE  0.995476\n",
       "8   NEGATIVE  0.999264\n",
       "9   POSITIVE  0.991983\n",
       "10  POSITIVE  0.797509\n",
       "11  NEGATIVE  0.998717\n",
       "12  NEGATIVE  0.507139\n",
       "13  NEGATIVE  0.945527\n",
       "14  NEGATIVE  0.934002\n",
       "15  POSITIVE  0.923191\n",
       "16  NEGATIVE  0.998715\n",
       "17  POSITIVE  0.998268\n",
       "18  NEGATIVE  0.997587\n",
       "19  POSITIVE  0.967129"
      ]
     },
     "execution_count": null,
     "metadata": {},
     "output_type": "execute_result"
    }
   ],
   "source": [
    "#create dataframe from list of dictionaries\n",
    "sent_df = pd.DataFrame(sent_results)\n",
    "sent_df"
   ]
  },
  {
   "cell_type": "code",
   "execution_count": null,
   "metadata": {},
   "outputs": [
    {
     "data": {
      "text/html": [
       "<div>\n",
       "<style scoped>\n",
       "    .dataframe tbody tr th:only-of-type {\n",
       "        vertical-align: middle;\n",
       "    }\n",
       "\n",
       "    .dataframe tbody tr th {\n",
       "        vertical-align: top;\n",
       "    }\n",
       "\n",
       "    .dataframe thead th {\n",
       "        text-align: right;\n",
       "    }\n",
       "</style>\n",
       "<table border=\"1\" class=\"dataframe\">\n",
       "  <thead>\n",
       "    <tr style=\"text-align: right;\">\n",
       "      <th></th>\n",
       "      <th>last_name</th>\n",
       "      <th>first_name</th>\n",
       "      <th>age</th>\n",
       "      <th>years_of_journalism</th>\n",
       "      <th>college major</th>\n",
       "      <th>article_id</th>\n",
       "      <th>label</th>\n",
       "      <th>score</th>\n",
       "    </tr>\n",
       "  </thead>\n",
       "  <tbody>\n",
       "    <tr>\n",
       "      <th>0</th>\n",
       "      <td>west</td>\n",
       "      <td>enrique</td>\n",
       "      <td>56</td>\n",
       "      <td>12</td>\n",
       "      <td>humanities</td>\n",
       "      <td>551293</td>\n",
       "      <td>POSITIVE</td>\n",
       "      <td>0.982362</td>\n",
       "    </tr>\n",
       "    <tr>\n",
       "      <th>1</th>\n",
       "      <td>braun</td>\n",
       "      <td>damien</td>\n",
       "      <td>43</td>\n",
       "      <td>13</td>\n",
       "      <td>humanities</td>\n",
       "      <td>373587</td>\n",
       "      <td>NEGATIVE</td>\n",
       "      <td>0.990874</td>\n",
       "    </tr>\n",
       "    <tr>\n",
       "      <th>2</th>\n",
       "      <td>osborn</td>\n",
       "      <td>ellie</td>\n",
       "      <td>22</td>\n",
       "      <td>2</td>\n",
       "      <td>engineering</td>\n",
       "      <td>597061</td>\n",
       "      <td>NEGATIVE</td>\n",
       "      <td>0.992019</td>\n",
       "    </tr>\n",
       "    <tr>\n",
       "      <th>3</th>\n",
       "      <td>vega</td>\n",
       "      <td>cierra</td>\n",
       "      <td>67</td>\n",
       "      <td>34</td>\n",
       "      <td>science</td>\n",
       "      <td>434648</td>\n",
       "      <td>NEGATIVE</td>\n",
       "      <td>0.996005</td>\n",
       "    </tr>\n",
       "    <tr>\n",
       "      <th>4</th>\n",
       "      <td>cantrell</td>\n",
       "      <td>alden</td>\n",
       "      <td>53</td>\n",
       "      <td>23</td>\n",
       "      <td>science</td>\n",
       "      <td>532970</td>\n",
       "      <td>POSITIVE</td>\n",
       "      <td>0.996070</td>\n",
       "    </tr>\n",
       "  </tbody>\n",
       "</table>\n",
       "</div>"
      ],
      "text/plain": [
       "  last_name first_name  age  years_of_journalism college major  article_id  \\\n",
       "0      west    enrique   56                   12    humanities      551293   \n",
       "1     braun     damien   43                   13    humanities      373587   \n",
       "2    osborn      ellie   22                    2   engineering      597061   \n",
       "3      vega     cierra   67                   34       science      434648   \n",
       "4  cantrell      alden   53                   23       science      532970   \n",
       "\n",
       "      label     score  \n",
       "0  POSITIVE  0.982362  \n",
       "1  NEGATIVE  0.990874  \n",
       "2  NEGATIVE  0.992019  \n",
       "3  NEGATIVE  0.996005  \n",
       "4  POSITIVE  0.996070  "
      ]
     },
     "execution_count": null,
     "metadata": {},
     "output_type": "execute_result"
    }
   ],
   "source": [
    "#concatenate dataframes\n",
    "final_df = pd.concat([author_df, sent_df], axis=1)\n",
    "final_df.head()"
   ]
  },
  {
   "cell_type": "markdown",
   "metadata": {},
   "source": [
    "## Now, let's actually answer our question!\n",
    "Can we see a difference between the sentiments of articles based on college major?"
   ]
  },
  {
   "cell_type": "code",
   "execution_count": null,
   "metadata": {},
   "outputs": [
    {
     "data": {
      "image/png": "[encoded data removed]",
      "text/plain": [
       "<Figure size 432x288 with 1 Axes>"
      ]
     },
     "metadata": {
      "needs_background": "light"
     },
     "output_type": "display_data"
    }
   ],
   "source": [
    "final_df.groupby(['college major'])['label'].value_counts().unstack().transpose().plot(kind='bar');"
   ]
  },
  {
   "cell_type": "markdown",
   "metadata": {},
   "source": [
    "## What if we wanted to compute an aggregate score?\n",
    "Looking at negative and positive is a bit hard.  Maybe we could just calculate a score reflecting whether overall, the group tends to have positive reviews.  We can calculate this as `no_positive_reviews - no_negative_reviews`."
   ]
  },
  {
   "cell_type": "code",
   "execution_count": null,
   "metadata": {},
   "outputs": [
    {
     "data": {
      "text/html": [
       "<div>\n",
       "<style scoped>\n",
       "    .dataframe tbody tr th:only-of-type {\n",
       "        vertical-align: middle;\n",
       "    }\n",
       "\n",
       "    .dataframe tbody tr th {\n",
       "        vertical-align: top;\n",
       "    }\n",
       "\n",
       "    .dataframe thead th {\n",
       "        text-align: right;\n",
       "    }\n",
       "</style>\n",
       "<table border=\"1\" class=\"dataframe\">\n",
       "  <thead>\n",
       "    <tr style=\"text-align: right;\">\n",
       "      <th>label</th>\n",
       "      <th>NEGATIVE</th>\n",
       "      <th>POSITIVE</th>\n",
       "    </tr>\n",
       "    <tr>\n",
       "      <th>college major</th>\n",
       "      <th></th>\n",
       "      <th></th>\n",
       "    </tr>\n",
       "  </thead>\n",
       "  <tbody>\n",
       "    <tr>\n",
       "      <th>engineering</th>\n",
       "      <td>3.0</td>\n",
       "      <td>0.0</td>\n",
       "    </tr>\n",
       "    <tr>\n",
       "      <th>humanities</th>\n",
       "      <td>4.0</td>\n",
       "      <td>2.0</td>\n",
       "    </tr>\n",
       "    <tr>\n",
       "      <th>prelaw</th>\n",
       "      <td>1.0</td>\n",
       "      <td>1.0</td>\n",
       "    </tr>\n",
       "    <tr>\n",
       "      <th>premed</th>\n",
       "      <td>2.0</td>\n",
       "      <td>2.0</td>\n",
       "    </tr>\n",
       "    <tr>\n",
       "      <th>science</th>\n",
       "      <td>3.0</td>\n",
       "      <td>2.0</td>\n",
       "    </tr>\n",
       "  </tbody>\n",
       "</table>\n",
       "</div>"
      ],
      "text/plain": [
       "label          NEGATIVE  POSITIVE\n",
       "college major                    \n",
       "engineering         3.0       0.0\n",
       "humanities          4.0       2.0\n",
       "prelaw              1.0       1.0\n",
       "premed              2.0       2.0\n",
       "science             3.0       2.0"
      ]
     },
     "execution_count": null,
     "metadata": {},
     "output_type": "execute_result"
    }
   ],
   "source": [
    "negpos_df = final_df.groupby(['college major'])['label'].value_counts().unstack().fillna(0)\n",
    "negpos_df"
   ]
  },
  {
   "cell_type": "code",
   "execution_count": null,
   "metadata": {},
   "outputs": [
    {
     "data": {
      "image/png": "[encoded data removed]",
      "text/plain": [
       "<Figure size 432x288 with 1 Axes>"
      ]
     },
     "metadata": {
      "needs_background": "light"
     },
     "output_type": "display_data"
    }
   ],
   "source": [
    "negpos_df['overall_positivity'] = negpos_df['POSITIVE'] - negpos_df['NEGATIVE']\n",
    "negpos_df['overall_positivity'].transpose().plot(kind='bar');"
   ]
  },
  {
   "cell_type": "markdown",
   "metadata": {},
   "source": [
    "# What we've covered\n",
    "We've covered a lot of ground today!  We've discussed several things:\n",
    "* Reading in text files via Google Colab and locally via the glob package\n",
    "* Example of HuggingFace sentiment-analysis model inference using demo function\n",
    "* Converting outputs to dataframes"
   ]
  },
  {
   "cell_type": "markdown",
   "metadata": {},
   "source": [
    "# Homework assignment\n",
    "Upload your data to Google Drive if you can, and make sure that you can access it programmatically!  We'll be working on your own data for the next few classes.  If something prevents you from uploading data to cloud storage, make sure you follow the instructions in the `0-Installations` notebook to install Anaconda locally.  Make sure you install HuggingFace transformers and all required Pytorch (or TensorFlow) packages. "
   ]
  }
 ],
 "metadata": {
  "kernelspec": {
   "display_name": "Python 3",
   "language": "python",
   "name": "python3"
  },
  "language_info": {
   "codemirror_mode": {
    "name": "ipython",
    "version": 3
   },
   "file_extension": ".py",
   "mimetype": "text/x-python",
   "name": "python",
   "nbconvert_exporter": "python",
   "pygments_lexer": "ipython3",
   "version": "3.8.10"
  }
 },
 "nbformat": 4,
 "nbformat_minor": 4
}
