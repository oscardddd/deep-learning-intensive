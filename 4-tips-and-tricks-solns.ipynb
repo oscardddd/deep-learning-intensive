{
 "cells": [
  {
   "cell_type": "markdown",
   "id": "44ab0f11-c9ec-4d5e-9d3a-1f47d6c0bffc",
   "metadata": {},
   "source": [
    "# 4-tips-and-tricks-solns\n",
    "> A reference notebook for advanced functionality\n",
    "\n",
    "In this notebook, we'll just note some helpful references around what the Huggingface API can do and where you can find more information!"
   ]
  },
  {
   "cell_type": "markdown",
   "id": "9fdcd154-2fd8-454a-8e26-6bfd82ca2cc9",
   "metadata": {},
   "source": [
    "# Model training for specific tasks\n",
    "Not sure how to structure your dataset or train your model for your task of interest? You should check out the [Transformers Pytorch example notebooks](https://huggingface.co/docs/transformers/notebooks#pytorch-examples). They show almost all the tasks and how models can be trained to meet this need."
   ]
  },
  {
   "cell_type": "markdown",
   "id": "f478d944-2eab-40ab-9e29-fd0e02852041",
   "metadata": {},
   "source": [
    "# Multilabel training\n",
    "Trying to switch from binary classification to multi-label classification? The helper code in the Trainer documentation should help here: https://huggingface.co/docs/transformers/main_classes/trainer"
   ]
  },
  {
   "cell_type": "markdown",
   "id": "be5e1ab1-b324-49d5-980b-7057e1d04d4c",
   "metadata": {},
   "source": [
    "# Is your data a little more complex or large?\n",
    "Instead of the simple approach we used today, you can also provide URLs and remote paths that `load_dataset` can read from in the form of a script. You can write these scripts for customized dataset building - learn more here: https://huggingface.co/docs/datasets/dataset_script.html"
   ]
  },
  {
   "cell_type": "markdown",
   "id": "8a5faa56-1131-4acd-aac2-c90a925ddadd",
   "metadata": {},
   "source": [
    "# Trying to tune your model even further?\n",
    "You can also do a hyperparameter search to find good values for training your model. You can learn more at the end of the [text classification example notebook](https://github.com/huggingface/notebooks/blob/master/examples/text_classification.ipynb)."
   ]
  }
 ],
 "metadata": {
  "kernelspec": {
   "display_name": "Python 3 (ipykernel)",
   "language": "python",
   "name": "python3"
  }
 },
 "nbformat": 4,
 "nbformat_minor": 5
}
